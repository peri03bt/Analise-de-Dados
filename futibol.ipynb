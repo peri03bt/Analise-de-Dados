{
 "cells": [
  {
   "cell_type": "markdown",
   "id": "d05eb3bd",
   "metadata": {},
   "source": [
    "## Questionario sobre o Futibol\n",
    "### 1 - Numeros de gols no 2º tempo\n",
    "### 2 - Gols por região\n",
    "### 3 - Equipe que mais marcou entre 30 min do 1º tempo e 15 do 2º tempo\n",
    "### 4 - Time que mais mais converteu penaltys\n",
    "### 5 - Artilheiro do campeonato\n",
    "### 6 - Time que menos marcou\n",
    "### 7 - Equipe que mais marcou no primeiro tempo, no returno"
   ]
  },
  {
   "cell_type": "code",
   "execution_count": 5,
   "id": "1c1a0ce8",
   "metadata": {},
   "outputs": [],
   "source": [
    "import pandas as pd"
   ]
  },
  {
   "cell_type": "code",
   "execution_count": 31,
   "id": "c3b45105",
   "metadata": {},
   "outputs": [],
   "source": [
    "tabela = pd.read_csv('campeonato-brasileiro-gols.csv')"
   ]
  },
  {
   "cell_type": "code",
   "execution_count": 32,
   "id": "d37dcfc5",
   "metadata": {},
   "outputs": [
    {
     "data": {
      "text/html": [
       "<div>\n",
       "<style scoped>\n",
       "    .dataframe tbody tr th:only-of-type {\n",
       "        vertical-align: middle;\n",
       "    }\n",
       "\n",
       "    .dataframe tbody tr th {\n",
       "        vertical-align: top;\n",
       "    }\n",
       "\n",
       "    .dataframe thead th {\n",
       "        text-align: right;\n",
       "    }\n",
       "</style>\n",
       "<table border=\"1\" class=\"dataframe\">\n",
       "  <thead>\n",
       "    <tr style=\"text-align: right;\">\n",
       "      <th></th>\n",
       "      <th>partida_id</th>\n",
       "      <th>rodata</th>\n",
       "      <th>clube</th>\n",
       "      <th>atleta</th>\n",
       "      <th>minuto</th>\n",
       "      <th>tipo_de_gol</th>\n",
       "    </tr>\n",
       "  </thead>\n",
       "  <tbody>\n",
       "    <tr>\n",
       "      <th>0</th>\n",
       "      <td>4607</td>\n",
       "      <td>1</td>\n",
       "      <td>Fluminense</td>\n",
       "      <td>Fred</td>\n",
       "      <td>45</td>\n",
       "      <td>Penalty</td>\n",
       "    </tr>\n",
       "    <tr>\n",
       "      <th>1</th>\n",
       "      <td>4607</td>\n",
       "      <td>1</td>\n",
       "      <td>Fluminense</td>\n",
       "      <td>Nirley da Silva Fonseca</td>\n",
       "      <td>59</td>\n",
       "      <td>Gol Contra</td>\n",
       "    </tr>\n",
       "    <tr>\n",
       "      <th>2</th>\n",
       "      <td>4607</td>\n",
       "      <td>1</td>\n",
       "      <td>Fluminense</td>\n",
       "      <td>Rafael Sóbis</td>\n",
       "      <td>31</td>\n",
       "      <td>NaN</td>\n",
       "    </tr>\n",
       "    <tr>\n",
       "      <th>3</th>\n",
       "      <td>4608</td>\n",
       "      <td>1</td>\n",
       "      <td>Internacional</td>\n",
       "      <td>Charles Aránguiz</td>\n",
       "      <td>6</td>\n",
       "      <td>NaN</td>\n",
       "    </tr>\n",
       "    <tr>\n",
       "      <th>4</th>\n",
       "      <td>4611</td>\n",
       "      <td>1</td>\n",
       "      <td>Sao Paulo</td>\n",
       "      <td>Antônio Carlos dos Santos Aguiar</td>\n",
       "      <td>13</td>\n",
       "      <td>NaN</td>\n",
       "    </tr>\n",
       "    <tr>\n",
       "      <th>...</th>\n",
       "      <td>...</td>\n",
       "      <td>...</td>\n",
       "      <td>...</td>\n",
       "      <td>...</td>\n",
       "      <td>...</td>\n",
       "      <td>...</td>\n",
       "    </tr>\n",
       "    <tr>\n",
       "      <th>7981</th>\n",
       "      <td>8019</td>\n",
       "      <td>38</td>\n",
       "      <td>Atletico-GO</td>\n",
       "      <td>Dudu</td>\n",
       "      <td>17</td>\n",
       "      <td>NaN</td>\n",
       "    </tr>\n",
       "    <tr>\n",
       "      <th>7982</th>\n",
       "      <td>8021</td>\n",
       "      <td>38</td>\n",
       "      <td>Cuiaba</td>\n",
       "      <td>Jonathan Cafú</td>\n",
       "      <td>44</td>\n",
       "      <td>NaN</td>\n",
       "    </tr>\n",
       "    <tr>\n",
       "      <th>7983</th>\n",
       "      <td>8024</td>\n",
       "      <td>38</td>\n",
       "      <td>Internacional</td>\n",
       "      <td>Alexandre Alemão</td>\n",
       "      <td>39</td>\n",
       "      <td>NaN</td>\n",
       "    </tr>\n",
       "    <tr>\n",
       "      <th>7984</th>\n",
       "      <td>8025</td>\n",
       "      <td>38</td>\n",
       "      <td>Sao Paulo</td>\n",
       "      <td>Marcos Guilherme</td>\n",
       "      <td>77</td>\n",
       "      <td>NaN</td>\n",
       "    </tr>\n",
       "    <tr>\n",
       "      <th>7985</th>\n",
       "      <td>8018</td>\n",
       "      <td>38</td>\n",
       "      <td>Ceara</td>\n",
       "      <td>Erick</td>\n",
       "      <td>89</td>\n",
       "      <td>Penalty</td>\n",
       "    </tr>\n",
       "  </tbody>\n",
       "</table>\n",
       "<p>7986 rows × 6 columns</p>\n",
       "</div>"
      ],
      "text/plain": [
       "      partida_id  rodata          clube                            atleta  \\\n",
       "0           4607       1     Fluminense                              Fred   \n",
       "1           4607       1     Fluminense           Nirley da Silva Fonseca   \n",
       "2           4607       1     Fluminense                      Rafael Sóbis   \n",
       "3           4608       1  Internacional                  Charles Aránguiz   \n",
       "4           4611       1      Sao Paulo  Antônio Carlos dos Santos Aguiar   \n",
       "...          ...     ...            ...                               ...   \n",
       "7981        8019      38    Atletico-GO                              Dudu   \n",
       "7982        8021      38         Cuiaba                     Jonathan Cafú   \n",
       "7983        8024      38  Internacional                  Alexandre Alemão   \n",
       "7984        8025      38      Sao Paulo                  Marcos Guilherme   \n",
       "7985        8018      38          Ceara                             Erick   \n",
       "\n",
       "     minuto tipo_de_gol  \n",
       "0        45     Penalty  \n",
       "1        59  Gol Contra  \n",
       "2        31         NaN  \n",
       "3         6         NaN  \n",
       "4        13         NaN  \n",
       "...     ...         ...  \n",
       "7981     17         NaN  \n",
       "7982     44         NaN  \n",
       "7983     39         NaN  \n",
       "7984     77         NaN  \n",
       "7985     89     Penalty  \n",
       "\n",
       "[7986 rows x 6 columns]"
      ]
     },
     "execution_count": 32,
     "metadata": {},
     "output_type": "execute_result"
    }
   ],
   "source": [
    "tabela"
   ]
  },
  {
   "cell_type": "code",
   "execution_count": 8,
   "id": "59cd745c",
   "metadata": {},
   "outputs": [],
   "source": [
    "# 5 - Artilheiro do campeonato"
   ]
  },
  {
   "cell_type": "code",
   "execution_count": 33,
   "id": "73a0266a",
   "metadata": {},
   "outputs": [
    {
     "data": {
      "text/plain": [
       "Gabriel Barbosa                       92\n",
       "Fred                                  81\n",
       "Diego Souza                           80\n",
       "Bruno Henrique                        59\n",
       "Ricardo Oliveira                      56\n",
       "                                      ..\n",
       "Frazan                                 1\n",
       "Jhon Cley                              1\n",
       "Andrezinho                             1\n",
       "Felipe Augusto de Almeida Monteiro     1\n",
       "Giuliano Galoppo                       1\n",
       "Name: atleta, Length: 1283, dtype: int64"
      ]
     },
     "execution_count": 33,
     "metadata": {},
     "output_type": "execute_result"
    }
   ],
   "source": [
    "tabela['atleta'].value_counts()"
   ]
  },
  {
   "cell_type": "code",
   "execution_count": 34,
   "id": "66ea9b10",
   "metadata": {},
   "outputs": [],
   "source": [
    "a = tabela['minuto'].value_counts()"
   ]
  },
  {
   "cell_type": "code",
   "execution_count": 46,
   "id": "f60328b5",
   "metadata": {},
   "outputs": [
    {
     "data": {
      "text/plain": [
       "71      112\n",
       "90+3    111\n",
       "59      106\n",
       "90      104\n",
       "88      104\n",
       "90+2    103\n",
       "61      102\n",
       "84      101\n",
       "76      100\n",
       "52       99\n",
       "65       98\n",
       "45       97\n",
       "66       97\n",
       "42       97\n",
       "63       96\n",
       "90+1     95\n",
       "55       95\n",
       "64       95\n",
       "62       95\n",
       "57       94\n",
       "83       93\n",
       "78       93\n",
       "60       92\n",
       "72       92\n",
       "56       91\n",
       "39       91\n",
       "70       91\n",
       "44       90\n",
       "48       90\n",
       "85       90\n",
       "73       90\n",
       "82       89\n",
       "37       88\n",
       "54       88\n",
       "25       88\n",
       "81       88\n",
       "40       87\n",
       "53       86\n",
       "86       86\n",
       "89       85\n",
       "45+1     85\n",
       "11       84\n",
       "80       83\n",
       "20       83\n",
       "35       83\n",
       "36       82\n",
       "51       82\n",
       "14       82\n",
       "18       81\n",
       "75       81\n",
       "87       80\n",
       "50       80\n",
       "17       79\n",
       "41       79\n",
       "26       79\n",
       "67       78\n",
       "79       78\n",
       "69       78\n",
       "43       77\n",
       "77       77\n",
       "Name: minuto, dtype: int64"
      ]
     },
     "execution_count": 46,
     "metadata": {},
     "output_type": "execute_result"
    }
   ],
   "source": [
    "a = tabela['minuto'].value_counts()\n",
    "a.head(60)"
   ]
  },
  {
   "cell_type": "code",
   "execution_count": 40,
   "id": "07c40aee",
   "metadata": {},
   "outputs": [
    {
     "data": {
      "text/plain": [
       "0                                Fred\n",
       "1             Nirley da Silva Fonseca\n",
       "2                        Rafael Sóbis\n",
       "3                    Charles Aránguiz\n",
       "4    Antônio Carlos dos Santos Aguiar\n",
       "Name: atleta, dtype: object"
      ]
     },
     "execution_count": 40,
     "metadata": {},
     "output_type": "execute_result"
    }
   ],
   "source": [
    "tabela['atleta'].head()"
   ]
  },
  {
   "cell_type": "markdown",
   "id": "916e9a4e",
   "metadata": {},
   "source": [
    "# Respostas\n",
    "\n",
    "### 5 - Gabriel Barbosa 92 Gols"
   ]
  },
  {
   "cell_type": "code",
   "execution_count": null,
   "id": "74993da4",
   "metadata": {},
   "outputs": [],
   "source": []
  }
 ],
 "metadata": {
  "kernelspec": {
   "display_name": "Python 3 (ipykernel)",
   "language": "python",
   "name": "python3"
  },
  "language_info": {
   "codemirror_mode": {
    "name": "ipython",
    "version": 3
   },
   "file_extension": ".py",
   "mimetype": "text/x-python",
   "name": "python",
   "nbconvert_exporter": "python",
   "pygments_lexer": "ipython3",
   "version": "3.9.13"
  }
 },
 "nbformat": 4,
 "nbformat_minor": 5
}
